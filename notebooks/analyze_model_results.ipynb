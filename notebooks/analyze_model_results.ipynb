{
 "cells": [
  {
   "cell_type": "markdown",
   "metadata": {},
   "source": [
    "# Analyze Jarvis Natural Language Classifications\n",
    "\n",
    "## Harrison Myers\n",
    "\n",
    "This notebook analyzes the output from the Jarvis chatbot natural language classifier deployed in Slack."
   ]
  },
  {
   "cell_type": "code",
   "execution_count": null,
   "metadata": {
    "vscode": {
     "languageId": "plaintext"
    }
   },
   "outputs": [],
   "source": [
    "import os\n",
    "from zipfile import ZipFile\n",
    "import pandas as pd\n",
    "import matplotlib.pyplot as plt\n",
    "import numpy as np"
   ]
  },
  {
   "cell_type": "markdown",
   "metadata": {},
   "source": [
    "### Helper functions"
   ]
  },
  {
   "cell_type": "code",
   "execution_count": null,
   "metadata": {
    "vscode": {
     "languageId": "plaintext"
    }
   },
   "outputs": [],
   "source": [
    "def create_dirs():\n",
    "    \"\"\"\n",
    "    Unzips the external-data folder and creates the directories necessary to run the \n",
    "    rest of the script. Changes the working directory, and returns the working\n",
    "    directory path, and the path of the enclosing, unzipped \"data\" folder\n",
    "    containing the datafiles. \n",
    "    \"\"\"\n",
    "    # Create relative directory path and change directory\n",
    "    dir_path = os.path.dirname(os.path.realpath(__file__))\n",
    "    os.chdir(dir_path)\n",
    "    \n",
    "    # Make data folder and unzip reports to this folder\n",
    "    try:\n",
    "        os.mkdir(\"data\")\n",
    "        # loading the temp.zip and creating a zip object \n",
    "        with ZipFile(dir_path + \"\\\\external-data.zip\") as zObject: \n",
    "            # Extracting all the members of the zip into data\n",
    "            zObject.extractall(dir_path)\n",
    "    except:\n",
    "        pass\n",
    "    \n",
    "    # Make a path that points to the reports folder where data is stored\n",
    "    data_dir = dir_path + \"\\\\data\"\n",
    "    \n",
    "    return dir_path, data_dir\n",
    "\n",
    "dir_path, data_dir = create_dirs()\n",
    "\n",
    "def load_model_results(filename):\n",
    "    \"\"\"\n",
    "    Reads model results from a .txt file and saves the text and labels as a dataframe\n",
    "    \"\"\"\n",
    "    texts     = []\n",
    "    labels    = []\n",
    "    NB_class  = []\n",
    "    SGD_class = []\n",
    "    with open(filename, 'r') as file:   # Open the desired file\n",
    "        lines = []                      # Create an empty list for storing lines in the file\n",
    "        for line in file:               # Loop through every line in the file\n",
    "            lines.append(line)          # Append each line to the list, lines\n",
    "\n",
    "        for line in lines:              # Loop through every line in lines\n",
    "            try:\n",
    "                str_list = line.split(\",\")  # try to split the lines by ,\n",
    "                texts.append(str_list[0])\n",
    "                labels.append(str_list[1].strip(\" \"))\n",
    "                NB_class.append(int(str_list[2]))\n",
    "                SGD_class.append(int(str_list[3]))\n",
    "            except:                         \n",
    "                pass\n",
    "            \n",
    "    # turn into dataframe\n",
    "    data = {\"Text\": texts, \n",
    "            \"Label\": labels, \n",
    "            \"NB_class\": NB_class, \n",
    "            \"SGD_class\":SGD_class}\n",
    "    df = pd.DataFrame(data)\n",
    "    \n",
    "    return df"
   ]
  },
  {
   "cell_type": "markdown",
   "metadata": {},
   "source": [
    "### Result Exploration"
   ]
  },
  {
   "cell_type": "code",
   "execution_count": null,
   "metadata": {
    "vscode": {
     "languageId": "plaintext"
    }
   },
   "outputs": [],
   "source": [
    "res = load_model_results(\"outputs/model_results.txt\")\n",
    "\n",
    "NB_accuracy = np.sum(res[\"NB_class\"]) / len(res[\"NB_class\"])\n",
    "SGD_accuracy = np.sum(res[\"SGD_class\"]) / len(res[\"SGD_class\"])\n",
    "\n",
    "# split into label dataframes\n",
    "labels = [\"TIME\", \"PIZZA\", \"WEATHER\", \"GREET\", \"JOKE\"]\n",
    "\n",
    "label_df_dict = dict.fromkeys(labels)\n",
    "\n",
    "label_num_accurate_NB  = []\n",
    "label_num_accurate_SGD = []\n",
    "label_accuracy_NB = []\n",
    "label_accuracy_SGD = []\n",
    "\n",
    "for key, value in label_df_dict.items():\n",
    "    label_df_dict[key] = res[res[\"Label\"] == key]\n",
    "\n",
    "for key, value in label_df_dict.items():\n",
    "    label_num_accurate_NB.append(np.sum(value[\"NB_class\"]))\n",
    "    label_accuracy_NB.append(round(np.sum(value[\"NB_class\"])/len(value[\"NB_class\"]), 3))\n",
    "    label_num_accurate_SGD.append(np.sum(value[\"SGD_class\"]))\n",
    "    label_accuracy_SGD.append(round(np.sum(value[\"SGD_class\"])/len(value[\"SGD_class\"]), 3))\n",
    "\n",
    "# Append overall accuracy\n",
    "labels.append(\"All Categories\")\n",
    "label_accuracy_NB.append(NB_accuracy)\n",
    "label_accuracy_SGD.append(SGD_accuracy)\n",
    "\n",
    "# Plot the data\n",
    "\n",
    "fig, ax = plt.subplots(figsize=(10, 6))\n",
    "bar_width = 0.35  # Adjust the width of the bars\n",
    "\n",
    "# Generating indexes for bars\n",
    "x = np.arange(len(labels))\n",
    "\n",
    "# Plot NB accuracy\n",
    "ax.bar(x - bar_width/2, label_accuracy_NB, bar_width, label='Naive Bayes Accuracy', color='skyblue')\n",
    "\n",
    "# Plot SGD accuracy\n",
    "ax.bar(x + bar_width/2, label_accuracy_SGD, bar_width, label='SGD Accuracy', color='orange')\n",
    "\n",
    "ax.set_xlabel('Labels')\n",
    "ax.set_ylabel('Accuracy')\n",
    "ax.set_title('NB vs.SGD model accuracy by Category')\n",
    "ax.set_xticks(x)\n",
    "ax.set_xticklabels(labels)\n",
    "ax.legend()\n",
    "plt.tight_layout()\n",
    "plt.show()"
   ]
  }
 ],
 "metadata": {
  "language_info": {
   "name": "python"
  }
 },
 "nbformat": 4,
 "nbformat_minor": 2
}
