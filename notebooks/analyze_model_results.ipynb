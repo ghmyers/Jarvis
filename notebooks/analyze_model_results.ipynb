{
 "cells": [
  {
   "cell_type": "markdown",
   "metadata": {},
   "source": [
    "# Analyze Jarvis Natural Language Classifications\n",
    "\n",
    "## Harrison Myers\n",
    "\n",
    "This notebook analyzes the output from the Jarvis chatbot natural language classifier deployed in Slack."
   ]
  },
  {
   "cell_type": "code",
   "execution_count": null,
   "metadata": {
    "vscode": {
     "languageId": "plaintext"
    }
   },
   "outputs": [],
   "source": [
    "import os\n",
    "from zipfile import ZipFile\n",
    "import pandas as pd\n",
    "import matplotlib.pyplot as plt\n",
    "import numpy as np\n",
    "from src.helper_functions import create_dirs, load_model_results"
   ]
  },
  {
   "cell_type": "markdown",
   "metadata": {},
   "source": [
    "### Result Exploration"
   ]
  },
  {
   "cell_type": "code",
   "execution_count": null,
   "metadata": {
    "vscode": {
     "languageId": "plaintext"
    }
   },
   "outputs": [],
   "source": [
    "res = load_model_results(\"outputs/model_results.txt\")\n",
    "\n",
    "NB_accuracy = np.sum(res[\"NB_class\"]) / len(res[\"NB_class\"])\n",
    "SGD_accuracy = np.sum(res[\"SGD_class\"]) / len(res[\"SGD_class\"])\n",
    "\n",
    "# split into label dataframes\n",
    "labels = [\"TIME\", \"PIZZA\", \"WEATHER\", \"GREET\", \"JOKE\"]\n",
    "\n",
    "label_df_dict = dict.fromkeys(labels)\n",
    "\n",
    "label_num_accurate_NB  = []\n",
    "label_num_accurate_SGD = []\n",
    "label_accuracy_NB = []\n",
    "label_accuracy_SGD = []\n",
    "\n",
    "for key, value in label_df_dict.items():\n",
    "    label_df_dict[key] = res[res[\"Label\"] == key]\n",
    "\n",
    "for key, value in label_df_dict.items():\n",
    "    label_num_accurate_NB.append(np.sum(value[\"NB_class\"]))\n",
    "    label_accuracy_NB.append(round(np.sum(value[\"NB_class\"])/len(value[\"NB_class\"]), 3))\n",
    "    label_num_accurate_SGD.append(np.sum(value[\"SGD_class\"]))\n",
    "    label_accuracy_SGD.append(round(np.sum(value[\"SGD_class\"])/len(value[\"SGD_class\"]), 3))\n",
    "\n",
    "# Append overall accuracy\n",
    "labels.append(\"All Categories\")\n",
    "label_accuracy_NB.append(NB_accuracy)\n",
    "label_accuracy_SGD.append(SGD_accuracy)\n",
    "\n",
    "# Plot the data\n",
    "\n",
    "fig, ax = plt.subplots(figsize=(10, 6))\n",
    "bar_width = 0.35  # Adjust the width of the bars\n",
    "\n",
    "# Generating indexes for bars\n",
    "x = np.arange(len(labels))\n",
    "\n",
    "# Plot NB accuracy\n",
    "ax.bar(x - bar_width/2, label_accuracy_NB, bar_width, label='Naive Bayes Accuracy', color='skyblue')\n",
    "\n",
    "# Plot SGD accuracy\n",
    "ax.bar(x + bar_width/2, label_accuracy_SGD, bar_width, label='SGD Accuracy', color='orange')\n",
    "\n",
    "ax.set_xlabel('Labels')\n",
    "ax.set_ylabel('Accuracy')\n",
    "ax.set_title('NB vs.SGD model accuracy by Category')\n",
    "ax.set_xticks(x)\n",
    "ax.set_xticklabels(labels)\n",
    "ax.legend()\n",
    "plt.tight_layout()\n",
    "plt.show()"
   ]
  }
 ],
 "metadata": {
  "language_info": {
   "name": "python"
  }
 },
 "nbformat": 4,
 "nbformat_minor": 2
}
